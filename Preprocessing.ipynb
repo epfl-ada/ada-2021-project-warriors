{
  "nbformat": 4,
  "nbformat_minor": 0,
  "metadata": {
    "kernelspec": {
      "display_name": "Python 3",
      "language": "python",
      "name": "python3"
    },
    "language_info": {
      "codemirror_mode": {
        "name": "ipython",
        "version": 3
      },
      "file_extension": ".py",
      "mimetype": "text/x-python",
      "name": "python",
      "nbconvert_exporter": "python",
      "pygments_lexer": "ipython3",
      "version": "3.8.3"
    },
    "colab": {
      "name": "Preprocessing.ipynb",
      "provenance": [],
      "collapsed_sections": []
    }
  },
  "cells": [
    {
      "cell_type": "markdown",
      "metadata": {
        "id": "IFr9APQyKKJV"
      },
      "source": [
        "# Data Preprocessing\n",
        "https://colab.research.google.com/drive/1EU3MsQnyIjhK3Eoblj9gbqgsHdIDGAEV?usp=sharing"
      ]
    },
    {
      "cell_type": "markdown",
      "metadata": {
        "id": "ghLUyeD6KKJa"
      },
      "source": [
        "### Mounting to the drive\n",
        "( You should add a shortcut of our project drive (ADA_proj) to your drive to access the used datasets)"
      ]
    },
    {
      "cell_type": "code",
      "metadata": {
        "colab": {
          "base_uri": "https://localhost:8080/"
        },
        "id": "zGPNgRtfKKJb",
        "outputId": "0340eb54-90e8-4ed3-a8ad-1304a31e48cb"
      },
      "source": [
        "from google.colab import drive\n",
        "drive.mount(\"/content/drive\")"
      ],
      "execution_count": null,
      "outputs": [
        {
          "output_type": "stream",
          "name": "stdout",
          "text": [
            "Mounted at /content/drive\n"
          ]
        }
      ]
    },
    {
      "cell_type": "markdown",
      "metadata": {
        "id": "00dWkEInKKJe"
      },
      "source": [
        "### Importing the needed libraries"
      ]
    },
    {
      "cell_type": "code",
      "metadata": {
        "id": "-Vz2gcyhKKJe"
      },
      "source": [
        "import bz2\n",
        "import json\n",
        "import numpy as np \n",
        "import pandas as pd"
      ],
      "execution_count": null,
      "outputs": []
    },
    {
      "cell_type": "markdown",
      "metadata": {
        "id": "TIiwBLN-KKJf"
      },
      "source": [
        "### Loading wikidata\n",
        "We load the provided Wikidata entities, filter them based on whether one of the entity's occupation is 'politician', and index the dataframe on the qid (as it uniquely identifies the entities)"
      ]
    },
    {
      "cell_type": "code",
      "metadata": {
        "id": "zghb58diKKJg"
      },
      "source": [
        "parquet_path = '/content/drive/MyDrive/Project datasets/speaker_attributes.parquet'\n",
        "\n",
        "## Loading the parquet\n",
        "speaker_attributes = pd.read_parquet(parquet_path)"
      ],
      "execution_count": null,
      "outputs": []
    },
    {
      "cell_type": "code",
      "metadata": {
        "id": "HtGeYYxSKKJh"
      },
      "source": [
        "## Filtering the wikidata entities based on whether the occupation is politician\n",
        "politician = 'Q82955'\n",
        "politician_attributes=speaker_attributes[speaker_attributes['occupation'].apply(lambda x: False if x is None else politician in x )]"
      ],
      "execution_count": null,
      "outputs": []
    },
    {
      "cell_type": "code",
      "metadata": {
        "id": "oc9zZvjkKKJh"
      },
      "source": [
        "## Taking only the needed attributes and reindexing on id\n",
        "useful_politician_attributes=politician_attributes[['nationality','occupation', 'party', 'academic_degree', 'id']].set_index(politician_attributes['id'])"
      ],
      "execution_count": null,
      "outputs": []
    },
    {
      "cell_type": "markdown",
      "metadata": {
        "id": "_94_IjS0KKJj"
      },
      "source": [
        "### Loading Quotebank\n",
        "We load the quotes for each year separately.  \n",
        "We only consider quotes whose speaker is known as our analysis is based on the speaker ideology (speaker != None).  \n",
        "We only consider quotes whose speaker is a politician, that is its QID (we only consider the first QID from the lis of QIDs) is in the previously generated wikidata.  \n",
        "We add the kept wikidata attributes, that is for each considered quote we add the speaker nationality, party, and academic degree."
      ]
    },
    {
      "cell_type": "code",
      "metadata": {
        "colab": {
          "base_uri": "https://localhost:8080/"
        },
        "id": "5AvzgiO0KKJj",
        "outputId": "198f43e5-b2f0-40a2-e4aa-f4fa38e6d801"
      },
      "source": [
        "## path to files\n",
        "path_to_file = '/content/drive/MyDrive/Quotebank/quotes-2017.json.bz2' \n",
        "path_to_out = '/content/drive/MyDrive/ADA_Proj/quotes-2017-clean.csv'\n",
        "## number of iteration\n",
        "iter = 0\n",
        "## importing the quotes\n",
        "with bz2.open(path_to_file, 'rb') as s_file:\n",
        "    with bz2.open(path_to_out, 'wb') as d_file:\n",
        "        for quote_dp in s_file:\n",
        "            quote_dp = json.loads(quote_dp)\n",
        "            ## delete unneeded attributes\n",
        "            del quote_dp['quoteID'] \n",
        "            del quote_dp['numOccurrences'] \n",
        "            del quote_dp['probas'] \n",
        "            del quote_dp['urls'] \n",
        "            del quote_dp['phase'] \n",
        "            ## neglect quotes with None as speaker\n",
        "            if quote_dp['speaker'] == 'None':\n",
        "              continue\n",
        "            ## just to check advancement of loading\n",
        "            iter+=1\n",
        "            if (iter % 100000 == 0):\n",
        "              print('nombre de citations lues: {}'.format(iter))\n",
        "            ## get the ids that are in the wikidata database, i.e. the politicians' ids.\n",
        "            ids = useful_speaker_attributes.index\n",
        "            ## check if the id is in \n",
        "            if quote_dp['qids'][0] in ids:\n",
        "              speaker = useful_speaker_attributes.loc[quote_dp['qids'][0]]\n",
        "              ## add the wikidata attributes to the quote data\n",
        "              quote_dp['party']=[] if speaker['party'] is None else list(speaker['party'])\n",
        "              quote_dp['academic_degree']= [] if speaker['academic_degree'] is None else list(speaker['academic_degree'])\n",
        "              quote_dp['nationality']=[] if speaker['nationality'] is None else list(speaker['nationality'] )\n",
        "              ## writing the resulting quote_dp to the drive             \n",
        "              d_file.write((json.dumps(quote_dp)+'\\n').encode('utf-8'))    "
      ],
      "execution_count": null,
      "outputs": [
        {
          "output_type": "stream",
          "name": "stdout",
          "text": [
            "nombre de citations lues: 100000\n",
            "nombre de citations lues: 200000\n",
            "nombre de citations lues: 300000\n",
            "nombre de citations lues: 400000\n",
            "nombre de citations lues: 500000\n",
            "nombre de citations lues: 600000\n",
            "nombre de citations lues: 700000\n",
            "nombre de citations lues: 800000\n",
            "nombre de citations lues: 900000\n",
            "nombre de citations lues: 1000000\n",
            "nombre de citations lues: 1100000\n",
            "nombre de citations lues: 1200000\n",
            "nombre de citations lues: 1300000\n",
            "nombre de citations lues: 1400000\n",
            "nombre de citations lues: 1500000\n",
            "nombre de citations lues: 1600000\n",
            "nombre de citations lues: 1700000\n",
            "nombre de citations lues: 1800000\n",
            "nombre de citations lues: 1900000\n",
            "nombre de citations lues: 2000000\n",
            "nombre de citations lues: 2100000\n",
            "nombre de citations lues: 2200000\n",
            "nombre de citations lues: 2300000\n",
            "nombre de citations lues: 2400000\n",
            "nombre de citations lues: 2500000\n",
            "nombre de citations lues: 2600000\n",
            "nombre de citations lues: 2700000\n",
            "nombre de citations lues: 2800000\n",
            "nombre de citations lues: 2900000\n",
            "nombre de citations lues: 3000000\n",
            "nombre de citations lues: 3100000\n",
            "nombre de citations lues: 3200000\n",
            "nombre de citations lues: 3300000\n",
            "nombre de citations lues: 3400000\n",
            "nombre de citations lues: 3500000\n",
            "nombre de citations lues: 3600000\n",
            "nombre de citations lues: 3700000\n",
            "nombre de citations lues: 3800000\n",
            "nombre de citations lues: 3900000\n",
            "nombre de citations lues: 4000000\n",
            "nombre de citations lues: 4100000\n",
            "nombre de citations lues: 4200000\n",
            "nombre de citations lues: 4300000\n",
            "nombre de citations lues: 4400000\n",
            "nombre de citations lues: 4500000\n",
            "nombre de citations lues: 4600000\n",
            "nombre de citations lues: 4700000\n",
            "nombre de citations lues: 4800000\n",
            "nombre de citations lues: 4900000\n",
            "nombre de citations lues: 5000000\n",
            "nombre de citations lues: 5100000\n",
            "nombre de citations lues: 5200000\n",
            "nombre de citations lues: 5300000\n",
            "nombre de citations lues: 5400000\n",
            "nombre de citations lues: 5500000\n",
            "nombre de citations lues: 5600000\n",
            "nombre de citations lues: 5700000\n",
            "nombre de citations lues: 5800000\n",
            "nombre de citations lues: 5900000\n",
            "nombre de citations lues: 6000000\n",
            "nombre de citations lues: 6100000\n",
            "nombre de citations lues: 6200000\n",
            "nombre de citations lues: 6300000\n",
            "nombre de citations lues: 6400000\n",
            "nombre de citations lues: 6500000\n",
            "nombre de citations lues: 6600000\n",
            "nombre de citations lues: 6700000\n",
            "nombre de citations lues: 6800000\n",
            "nombre de citations lues: 6900000\n",
            "nombre de citations lues: 7000000\n",
            "nombre de citations lues: 7100000\n",
            "nombre de citations lues: 7200000\n",
            "nombre de citations lues: 7300000\n",
            "nombre de citations lues: 7400000\n",
            "nombre de citations lues: 7500000\n",
            "nombre de citations lues: 7600000\n",
            "nombre de citations lues: 7700000\n",
            "nombre de citations lues: 7800000\n",
            "nombre de citations lues: 7900000\n",
            "nombre de citations lues: 8000000\n",
            "nombre de citations lues: 8100000\n",
            "nombre de citations lues: 8200000\n",
            "nombre de citations lues: 8300000\n",
            "nombre de citations lues: 8400000\n",
            "nombre de citations lues: 8500000\n",
            "nombre de citations lues: 8600000\n",
            "nombre de citations lues: 8700000\n",
            "nombre de citations lues: 8800000\n",
            "nombre de citations lues: 8900000\n",
            "nombre de citations lues: 9000000\n",
            "nombre de citations lues: 9100000\n",
            "nombre de citations lues: 9200000\n",
            "nombre de citations lues: 9300000\n",
            "nombre de citations lues: 9400000\n",
            "nombre de citations lues: 9500000\n",
            "nombre de citations lues: 9600000\n",
            "nombre de citations lues: 9700000\n",
            "nombre de citations lues: 9800000\n",
            "nombre de citations lues: 9900000\n",
            "nombre de citations lues: 10000000\n",
            "nombre de citations lues: 10100000\n",
            "nombre de citations lues: 10200000\n",
            "nombre de citations lues: 10300000\n",
            "nombre de citations lues: 10400000\n",
            "nombre de citations lues: 10500000\n",
            "nombre de citations lues: 10600000\n",
            "nombre de citations lues: 10700000\n",
            "nombre de citations lues: 10800000\n",
            "nombre de citations lues: 10900000\n",
            "nombre de citations lues: 11000000\n",
            "nombre de citations lues: 11100000\n",
            "nombre de citations lues: 11200000\n",
            "nombre de citations lues: 11300000\n",
            "nombre de citations lues: 11400000\n",
            "nombre de citations lues: 11500000\n",
            "nombre de citations lues: 11600000\n",
            "nombre de citations lues: 11700000\n",
            "nombre de citations lues: 11800000\n"
          ]
        }
      ]
    },
    {
      "cell_type": "code",
      "metadata": {
        "id": "cM2TWZgMKx9U"
      },
      "source": [
        ""
      ],
      "execution_count": null,
      "outputs": []
    }
  ]
}